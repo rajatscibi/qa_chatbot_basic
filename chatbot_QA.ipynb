{
 "cells": [
  {
   "cell_type": "code",
   "execution_count": 10,
   "metadata": {},
   "outputs": [],
   "source": [
    "import io\n",
    "import random\n",
    "import string # to process standard python strings\n",
    "import warnings\n",
    "import numpy as np\n",
    "from sklearn.feature_extraction.text import TfidfVectorizer\n",
    "from sklearn.metrics.pairwise import cosine_similarity\n",
    "import warnings\n",
    "warnings.filterwarnings('ignore')"
   ]
  },
  {
   "cell_type": "code",
   "execution_count": 11,
   "metadata": {},
   "outputs": [
    {
     "data": {
      "text/plain": [
       "True"
      ]
     },
     "execution_count": 11,
     "metadata": {},
     "output_type": "execute_result"
    }
   ],
   "source": [
    "import nltk\n",
    "from nltk.stem import WordNetLemmatizer\n",
    "nltk.download('popular', quiet=True) "
   ]
  },
  {
   "cell_type": "code",
   "execution_count": 12,
   "metadata": {},
   "outputs": [],
   "source": [
    "f=open('history_india','r',errors = 'ignore')\n",
    "raw=f.read()\n",
    "raw = raw.lower()# converts to lowercase"
   ]
  },
  {
   "cell_type": "code",
   "execution_count": 13,
   "metadata": {},
   "outputs": [],
   "source": [
    "sent_tokens = nltk.sent_tokenize(raw)# converts to list of sentences \n",
    "word_tokens = nltk.word_tokenize(raw)# converts to list of words"
   ]
  },
  {
   "cell_type": "code",
   "execution_count": 14,
   "metadata": {},
   "outputs": [],
   "source": [
    "lemmer = nltk.stem.WordNetLemmatizer()\n",
    "#WordNet is a semantically-oriented dictionary of English included in NLTK.\n",
    "def LemTokens(tokens):\n",
    "    return [lemmer.lemmatize(token) for token in tokens]\n",
    "remove_punct_dict = dict((ord(punct), None) for punct in string.punctuation)\n",
    "\n",
    "def LemNormalize(text):\n",
    "    return LemTokens(nltk.word_tokenize(text.lower().translate(remove_punct_dict)))"
   ]
  },
  {
   "cell_type": "code",
   "execution_count": 15,
   "metadata": {},
   "outputs": [],
   "source": [
    "GREETING_INPUTS = (\"namastey\",\"namaskaram\",\"hello\", \"hi\", \"whats up\",\"hey\")\n",
    "GREETING_RESPONSES = [\"namastey\",\"namaskaram\",\"hello\", \"hi\", \"whats up\",\"hey\"]\n",
    "def greeting(sentence):\n",
    " \n",
    "    for word in sentence.split():\n",
    "        if word.lower() in GREETING_INPUTS:\n",
    "            return random.choice(GREETING_RESPONSES)"
   ]
  },
  {
   "cell_type": "code",
   "execution_count": 16,
   "metadata": {},
   "outputs": [],
   "source": [
    "def response(user_response):\n",
    "    robot_response=''\n",
    "    sent_tokens.append(user_response)\n",
    "    TfidfVec = TfidfVectorizer(tokenizer=LemNormalize, stop_words='english')\n",
    "    tfidf = TfidfVec.fit_transform(sent_tokens)\n",
    "    vals = cosine_similarity(tfidf[-1], tfidf)\n",
    "    idx=vals.argsort()[0][-2]\n",
    "    flat = vals.flatten()\n",
    "    flat.sort()\n",
    "    req_tfidf = flat[-2]\n",
    "    if(req_tfidf==0):\n",
    "        robot_response=robot_response+\"I think I need to read more about that...\"\n",
    "        return robot_response\n",
    "    else:\n",
    "        robot_response = robot_response+sent_tokens[idx]\n",
    "        return robot_response"
   ]
  },
  {
   "cell_type": "code",
   "execution_count": 18,
   "metadata": {},
   "outputs": [
    {
     "name": "stdout",
     "output_type": "stream",
     "text": [
      "Spongebot: Namaskaram I am Spongebot. I am an expert on history of India, you can ask me anything. Go ahead!\n",
      "tell me a fact about history of india\n",
      "Spongebot: dissatisfaction with the company rule in india led to the indian rebellion of 1857, which rocked parts of north and central india, and led to the dissolution of the company.\n",
      "tell me more about north and central india\n",
      "Spongebot: dissatisfaction with the company rule in india led to the indian rebellion of 1857, which rocked parts of north and central india, and led to the dissolution of the company.\n",
      "what do you know about indus valley civilization\n",
      "Spongebot: [2] by 4,500 bce, settled life had spread more widely,[2] and began to gradually evolve into the indus valley civilization, an early civilization of the old world, which was contemporaneous with ancient egypt and mesopotamia.\n",
      "is is todays pakistan\n",
      "Spongebot: this civilization flourished between 2,500 bce and 1900 bce in what today is pakistan and north-western india and was noted for its urban planning, baked brick houses, elaborate drainage, and water supply.\n",
      "what can you tell me about aryans\n",
      "Spongebot: I think I need to read more about that...\n",
      "anything you know about aryan tribes\n",
      "Spongebot: around the same time, indo-aryan tribes moved into the punjab from regions further northwest in several waves of migration.\n",
      "what about the vedic period\n",
      "Spongebot: the resulting vedic period was marked by the composition of the vedas, large collections of hymns of these tribes whose postulated religious culture, through synthesis with the preexisting religious cultures of the subcontinent, gave rise to hinduism.\n",
      "nice, what about buddhism\n",
      "Spongebot: the urbanization was accompanied by the rise of new ascetic movements in greater magadha, including jainism and buddhism.\n",
      "have you heard of the golden age of india\n",
      "Spongebot: this period, witnessing a hindu religious and intellectual resurgence, is known as the classical or golden age of india.\n",
      "what is the most significant event of indias history\n",
      "Spongebot: [11][12]\n",
      "\n",
      "the most significant event between the 7th and 11th centuries was the tripartite struggle centered on kannauj that lasted for more than two centuries between the pala empire, rashtrakuta empire, and gurjara-pratihara empire.\n",
      "any word on indias gdp\n",
      "Spongebot: the early modern period began in the 16th century, when the mughal empire conquered most of the indian subcontinent,[22] becoming the biggest global economy and manufacturing power,[23] with a nominal gdp that valued a quarter of the world gdp, superior to the combination of europe's gdp.\n",
      "when did india gain independence from british rule\n",
      "Spongebot: india was afterward ruled directly by the british crown, in the british raj.\n",
      "when did british empire leave india\n",
      "Spongebot: india was afterward ruled directly by the british crown, in the british raj.\n",
      "when was british indian empire partitioned\n",
      "Spongebot: india was afterward ruled directly by the british crown, in the british raj.\n",
      "when was pakistan formed\n",
      "Spongebot: the british indian empire was partitioned in august 1947 into the dominion of india (present day republic of india) and dominion of pakistan (present day islamic republic of pakistan and people's republic of bangladesh), each gaining its independence.\n",
      "thank you\n",
      "Spongebot: Anytime\n"
     ]
    }
   ],
   "source": [
    "flag=True\n",
    "print(\"Spongebot: Namaskaram I am Spongebot. I am an expert on history of India, you can ask me anything. Go ahead!\")\n",
    "while(flag==True):\n",
    "    user_response = input()\n",
    "    user_response=user_response.lower()\n",
    "    if(user_response!='bye'):\n",
    "        if(user_response=='thanks' or user_response=='thank you' ):\n",
    "            flag=False\n",
    "            print(\"Spongebot: Anytime\")\n",
    "        else:\n",
    "            if(greeting(user_response)!=None):\n",
    "                print(\"Spongebot: \"+greeting(user_response))\n",
    "            else:\n",
    "                print(\"Spongebot: \",end=\"\")\n",
    "                print(response(user_response))\n",
    "                sent_tokens.remove(user_response)\n",
    "    else:\n",
    "        flag=False\n",
    "        print(\"Spongebot: Alvida\")"
   ]
  },
  {
   "cell_type": "code",
   "execution_count": null,
   "metadata": {
    "collapsed": true
   },
   "outputs": [],
   "source": []
  }
 ],
 "metadata": {
  "kernelspec": {
   "display_name": "Python 3",
   "language": "python",
   "name": "python3"
  },
  "language_info": {
   "codemirror_mode": {
    "name": "ipython",
    "version": 3
   },
   "file_extension": ".py",
   "mimetype": "text/x-python",
   "name": "python",
   "nbconvert_exporter": "python",
   "pygments_lexer": "ipython3",
   "version": "3.7.7"
  }
 },
 "nbformat": 4,
 "nbformat_minor": 4
}
